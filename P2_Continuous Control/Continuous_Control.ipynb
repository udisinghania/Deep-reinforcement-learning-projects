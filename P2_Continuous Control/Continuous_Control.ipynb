{
 "cells": [
  {
   "cell_type": "markdown",
   "metadata": {},
   "source": [
    "# Continuous Control\n",
    "\n",
    "---\n",
    "\n",
    "You are welcome to use this coding environment to train your agent for the project.  Follow the instructions below to get started!\n",
    "\n",
    "### 1. Start the Environment\n",
    "\n",
    "Run the next code cell to install a few packages.  This line will take a few minutes to run!"
   ]
  },
  {
   "cell_type": "code",
   "execution_count": 1,
   "metadata": {},
   "outputs": [
    {
     "name": "stdout",
     "output_type": "stream",
     "text": [
      "\u001b[31mtensorflow 1.7.1 has requirement numpy>=1.13.3, but you'll have numpy 1.12.1 which is incompatible.\u001b[0m\r\n",
      "\u001b[31mipython 6.5.0 has requirement prompt-toolkit<2.0.0,>=1.0.15, but you'll have prompt-toolkit 3.0.5 which is incompatible.\u001b[0m\r\n"
     ]
    }
   ],
   "source": [
    "!pip -q install ./python"
   ]
  },
  {
   "cell_type": "code",
   "execution_count": 2,
   "metadata": {},
   "outputs": [],
   "source": [
    "import torch\n",
    "import numpy as np\n",
    "from collections import deque\n",
    "from unityagents import UnityEnvironment\n",
    "\n",
    "import matplotlib.pyplot as plt\n",
    "%matplotlib inline\n",
    "\n",
    "# Watch for changes in any of the imported files\n",
    "%load_ext autoreload\n",
    "%autoreload 2"
   ]
  },
  {
   "cell_type": "markdown",
   "metadata": {},
   "source": [
    "The environments corresponding to both versions of the environment are already saved in the Workspace and can be accessed at the file paths provided below.  \n",
    "\n",
    "Please select one of the two options below for loading the environment."
   ]
  },
  {
   "cell_type": "code",
   "execution_count": 3,
   "metadata": {},
   "outputs": [
    {
     "name": "stderr",
     "output_type": "stream",
     "text": [
      "INFO:unityagents:\n",
      "'Academy' started successfully!\n",
      "Unity Academy name: Academy\n",
      "        Number of Brains: 1\n",
      "        Number of External Brains : 1\n",
      "        Lesson number : 0\n",
      "        Reset Parameters :\n",
      "\t\tgoal_speed -> 1.0\n",
      "\t\tgoal_size -> 5.0\n",
      "Unity brain name: ReacherBrain\n",
      "        Number of Visual Observations (per agent): 0\n",
      "        Vector Observation space type: continuous\n",
      "        Vector Observation space size (per agent): 33\n",
      "        Number of stacked Vector Observation: 1\n",
      "        Vector Action space type: continuous\n",
      "        Vector Action space size (per agent): 4\n",
      "        Vector Action descriptions: , , , \n"
     ]
    }
   ],
   "source": [
    "from unityagents import UnityEnvironment\n",
    "import numpy as np\n",
    "\n",
    "# select this option to load version 1 (with a single agent) of the environment\n",
    "#env = UnityEnvironment(file_name='/data/Reacher_One_Linux_NoVis/Reacher_One_Linux_NoVis.x86_64')\n",
    "\n",
    "# select this option to load version 2 (with 20 agents) of the environment\n",
    "env = UnityEnvironment(file_name='/data/Reacher_Linux_NoVis/Reacher.x86_64')"
   ]
  },
  {
   "cell_type": "markdown",
   "metadata": {},
   "source": [
    "Environments contain **_brains_** which are responsible for deciding the actions of their associated agents. Here we check for the first brain available, and set it as the default brain we will be controlling from Python."
   ]
  },
  {
   "cell_type": "code",
   "execution_count": 4,
   "metadata": {},
   "outputs": [],
   "source": [
    "# get the default brain\n",
    "brain_name = env.brain_names[0]\n",
    "brain = env.brains[brain_name]"
   ]
  },
  {
   "cell_type": "markdown",
   "metadata": {},
   "source": [
    "### 2. Examine the State and Action Spaces\n",
    "\n",
    "Run the code cell below to print some information about the environment."
   ]
  },
  {
   "cell_type": "code",
   "execution_count": 5,
   "metadata": {},
   "outputs": [
    {
     "name": "stdout",
     "output_type": "stream",
     "text": [
      "Number of agents: 20\n",
      "Size of each action: 4\n",
      "There are 20 agents. Each observes a state with length: 33\n",
      "The state for the first agent looks like: [  0.00000000e+00  -4.00000000e+00   0.00000000e+00   1.00000000e+00\n",
      "  -0.00000000e+00  -0.00000000e+00  -4.37113883e-08   0.00000000e+00\n",
      "   0.00000000e+00   0.00000000e+00   0.00000000e+00   0.00000000e+00\n",
      "   0.00000000e+00   0.00000000e+00  -1.00000000e+01   0.00000000e+00\n",
      "   1.00000000e+00  -0.00000000e+00  -0.00000000e+00  -4.37113883e-08\n",
      "   0.00000000e+00   0.00000000e+00   0.00000000e+00   0.00000000e+00\n",
      "   0.00000000e+00   0.00000000e+00   5.75471878e+00  -1.00000000e+00\n",
      "   5.55726624e+00   0.00000000e+00   1.00000000e+00   0.00000000e+00\n",
      "  -1.68164849e-01]\n"
     ]
    }
   ],
   "source": [
    "# reset the environment\n",
    "env_info = env.reset(train_mode=True)[brain_name]\n",
    "\n",
    "# number of agents\n",
    "num_agents = len(env_info.agents)\n",
    "print('Number of agents:', num_agents)\n",
    "\n",
    "# size of each action\n",
    "action_size = brain.vector_action_space_size\n",
    "print('Size of each action:', action_size)\n",
    "\n",
    "# examine the state space \n",
    "states = env_info.vector_observations\n",
    "state_size = states.shape[1]\n",
    "print('There are {} agents. Each observes a state with length: {}'.format(states.shape[0], state_size))\n",
    "print('The state for the first agent looks like:', states[0])"
   ]
  },
  {
   "cell_type": "markdown",
   "metadata": {},
   "source": [
    "### 3. Take Random Actions in the Environment\n",
    "\n",
    "In the next code cell, you will learn how to use the Python API to control the agent and receive feedback from the environment.\n",
    "\n",
    "Note that **in this coding environment, you will not be able to watch the agents while they are training**, and you should set `train_mode=True` to restart the environment."
   ]
  },
  {
   "cell_type": "code",
   "execution_count": 6,
   "metadata": {},
   "outputs": [
    {
     "name": "stdout",
     "output_type": "stream",
     "text": [
      "Total score (averaged over agents) this episode: 0.14699999671429395\n"
     ]
    }
   ],
   "source": [
    "env_info = env.reset(train_mode=True)[brain_name]      # reset the environment    \n",
    "states = env_info.vector_observations                  # get the current state (for each agent)\n",
    "scores = np.zeros(num_agents)                          # initialize the score (for each agent)\n",
    "while True:\n",
    "    actions = np.random.randn(num_agents, action_size) # select an action (for each agent)\n",
    "    actions = np.clip(actions, -1, 1)                  # all actions between -1 and 1\n",
    "    env_info = env.step(actions)[brain_name]           # send all actions to tne environment\n",
    "    next_states = env_info.vector_observations         # get next state (for each agent)\n",
    "    rewards = env_info.rewards                         # get reward (for each agent)\n",
    "    dones = env_info.local_done                        # see if episode finished\n",
    "    scores += env_info.rewards                         # update the score (for each agent)\n",
    "    states = next_states                               # roll over states to next time step\n",
    "    if np.any(dones):                                  # exit loop if episode finished\n",
    "        break\n",
    "print('Total score (averaged over agents) this episode: {}'.format(np.mean(scores)))"
   ]
  },
  {
   "cell_type": "markdown",
   "metadata": {},
   "source": [
    "When finished, you can close the environment."
   ]
  },
  {
   "cell_type": "code",
   "execution_count": 7,
   "metadata": {},
   "outputs": [],
   "source": [
    "#env.close()"
   ]
  },
  {
   "cell_type": "markdown",
   "metadata": {},
   "source": [
    "### 4. It's Your Turn!\n",
    "\n",
    "Now it's your turn to train your own agent to solve the environment!  A few **important notes**:\n",
    "- When training the environment, set `train_mode=True`, so that the line for resetting the environment looks like the following:\n",
    "```python\n",
    "env_info = env.reset(train_mode=True)[brain_name]\n",
    "```\n",
    "- To structure your work, you're welcome to work directly in this Jupyter notebook, or you might like to start over with a new file!  You can see the list of files in the workspace by clicking on **_Jupyter_** in the top left corner of the notebook.\n",
    "- In this coding environment, you will not be able to watch the agents while they are training.  However, **_after training the agents_**, you can download the saved model weights to watch the agents on your own machine! "
   ]
  },
  {
   "cell_type": "code",
   "execution_count": 8,
   "metadata": {},
   "outputs": [],
   "source": [
    "def plot_scores(scores):\n",
    "    fig = plt.figure()\n",
    "    ax = fig.add_subplot(111)\n",
    "    plt.plot(np.arange(len(scores)), scores)\n",
    "    plt.ylabel('Score')\n",
    "    plt.xlabel('Episode #')\n",
    "    plt.show()"
   ]
  },
  {
   "cell_type": "code",
   "execution_count": 9,
   "metadata": {},
   "outputs": [],
   "source": [
    "\n",
    "# Note: `brain_name` should be defined globally\n",
    "def env_step(env, actions):\n",
    "    # Execute the action for each agent in the environment\n",
    "    env_info = env.step(actions)[brain_name]\n",
    "    # Get the next state for each agent\n",
    "    next_states = env_info.vector_observations\n",
    "    # Get the reward for each agent\n",
    "    rewards = env_info.rewards\n",
    "    # Get whether or not the episode has terminated\n",
    "    dones = env_info.local_done\n",
    "    return next_states, rewards, dones"
   ]
  },
  {
   "cell_type": "code",
   "execution_count": 10,
   "metadata": {},
   "outputs": [],
   "source": [
    "def train_ddpg(agent, n_episodes=1000, max_t=1000, save_file=None):\n",
    "    \"\"\"Deep Deterministic Policy Gradients.\n",
    "    \n",
    "    Params\n",
    "    ======\n",
    "        agent (Agent): an instance of a DDPG agent(s)\n",
    "        n_episodes (int): maximum number of training episodes\n",
    "        max_t (int): maximum number of time steps per episode\n",
    "        save_file (string): prefix for the actor and critic model filenames\n",
    "    \"\"\"\n",
    "    \n",
    "    # All the scores from each episode\n",
    "    scores_all = []\n",
    "    # The last 100 scores\n",
    "    scores_window = deque(maxlen=100)\n",
    "    \n",
    "    # Loop over each episode\n",
    "    for i_episode in range(1, n_episodes+1):\n",
    "        # Reset the environment\n",
    "        env_info = env.reset(train_mode=True)[brain_name]\n",
    "        # Get the current state for each agent\n",
    "        states = env_info.vector_observations\n",
    "        # Reset the noise\n",
    "        agent.reset()\n",
    "        # Initialize the score for each agent\n",
    "        scores = np.zeros(num_agents)\n",
    "        \n",
    "        # Loop over each time step\n",
    "        for t in range(max_t):            \n",
    "            # Select an action for each agent according to the current policy\n",
    "            actions = agent.act(states)\n",
    "            # Execute the actions in the environment,\n",
    "            #     then observe the next state and reward for each agent\n",
    "            next_states, rewards, dones = env_step(env, actions)\n",
    "            # Learn from experience and update network parameters for each agent\n",
    "            agent.step(states, actions, rewards, next_states, dones)\n",
    "            \n",
    "            # Update the score for each agent\n",
    "            scores += rewards\n",
    "            # Roll over each state to the next time step\n",
    "            states = next_states\n",
    "            # Record the current mean score across all agents, (overwriting the output)\n",
    "            print(f'\\rEpisode {i_episode}\\tTimestep {t}'\n",
    "                  f'\\tCurrent Score: {np.mean(scores):.2f}', end=\"\")\n",
    "            # Exit the loop if the episode has terminated\n",
    "            if np.any(dones):\n",
    "                break\n",
    "        \n",
    "        # Take the average score across all agents\n",
    "        score = np.mean(scores)\n",
    "        # Save the most recent score\n",
    "        scores_all.append(score)\n",
    "        scores_window.append(score)\n",
    "        # Record the mean score over the last 100 scores\n",
    "        mean_score = np.mean(scores_window)\n",
    "                \n",
    "        # Per episode, record the mean score over the last 100 (or less) episodes\n",
    "        print(f'\\rEpisode {i_episode}'\n",
    "              f'\\tAverage score over the last 100 episodes: {mean_score:.2f}')\n",
    "            \n",
    "        # Goal: Reach 30+ over 100 consecutive episodes\n",
    "        if mean_score >= 30.0:\n",
    "            print(f'\\nEnvironment solved in {i_episode:d} episodes!'\n",
    "                  f'\\tAverage score over the last 100 episodes: {mean_score:.2f}')\n",
    "            if save_file:\n",
    "                torch.save(agent.actor_local.state_dict(), f'{save_file}_actor.pth')\n",
    "                torch.save(agent.critic_local.state_dict(), f'{save_file}_critic.pth')\n",
    "            break\n",
    "            \n",
    "    return scores_all"
   ]
  },
  {
   "cell_type": "code",
   "execution_count": 11,
   "metadata": {},
   "outputs": [],
   "source": [
    "from ddpg_agent import Agent"
   ]
  },
  {
   "cell_type": "code",
   "execution_count": 12,
   "metadata": {},
   "outputs": [
    {
     "name": "stdout",
     "output_type": "stream",
     "text": [
      "Episode 1\tAverage score over the last 100 episodes: 0.36\n",
      "Episode 2\tAverage score over the last 100 episodes: 0.24\n",
      "Episode 3\tAverage score over the last 100 episodes: 0.17\n",
      "Episode 4\tAverage score over the last 100 episodes: 0.13\n",
      "Episode 5\tAverage score over the last 100 episodes: 0.11\n",
      "Episode 6\tAverage score over the last 100 episodes: 0.23\n",
      "Episode 7\tAverage score over the last 100 episodes: 0.33\n",
      "Episode 8\tAverage score over the last 100 episodes: 0.39\n",
      "Episode 9\tAverage score over the last 100 episodes: 0.46\n",
      "Episode 10\tAverage score over the last 100 episodes: 0.54\n",
      "Episode 11\tAverage score over the last 100 episodes: 0.58\n",
      "Episode 12\tAverage score over the last 100 episodes: 0.61\n",
      "Episode 13\tAverage score over the last 100 episodes: 0.63\n",
      "Episode 14\tAverage score over the last 100 episodes: 0.64\n",
      "Episode 15\tAverage score over the last 100 episodes: 0.66\n",
      "Episode 16\tAverage score over the last 100 episodes: 0.69\n",
      "Episode 17\tAverage score over the last 100 episodes: 0.72\n",
      "Episode 18\tAverage score over the last 100 episodes: 0.77\n",
      "Episode 19\tAverage score over the last 100 episodes: 0.81\n",
      "Episode 20\tAverage score over the last 100 episodes: 0.87\n",
      "Episode 21\tAverage score over the last 100 episodes: 0.94\n",
      "Episode 22\tAverage score over the last 100 episodes: 1.01\n",
      "Episode 23\tAverage score over the last 100 episodes: 1.10\n",
      "Episode 24\tAverage score over the last 100 episodes: 1.21\n",
      "Episode 25\tAverage score over the last 100 episodes: 1.33\n",
      "Episode 26\tAverage score over the last 100 episodes: 1.46\n",
      "Episode 27\tAverage score over the last 100 episodes: 1.58\n",
      "Episode 28\tAverage score over the last 100 episodes: 1.74\n",
      "Episode 29\tAverage score over the last 100 episodes: 1.87\n",
      "Episode 30\tAverage score over the last 100 episodes: 2.02\n",
      "Episode 31\tAverage score over the last 100 episodes: 2.24\n",
      "Episode 32\tAverage score over the last 100 episodes: 2.46\n",
      "Episode 33\tAverage score over the last 100 episodes: 2.69\n",
      "Episode 34\tAverage score over the last 100 episodes: 2.94\n",
      "Episode 35\tAverage score over the last 100 episodes: 3.16\n",
      "Episode 36\tAverage score over the last 100 episodes: 3.39\n",
      "Episode 37\tAverage score over the last 100 episodes: 3.65\n",
      "Episode 38\tAverage score over the last 100 episodes: 3.90\n",
      "Episode 39\tAverage score over the last 100 episodes: 4.12\n",
      "Episode 40\tAverage score over the last 100 episodes: 4.33\n",
      "Episode 41\tAverage score over the last 100 episodes: 4.56\n",
      "Episode 42\tAverage score over the last 100 episodes: 4.82\n",
      "Episode 43\tAverage score over the last 100 episodes: 5.05\n",
      "Episode 44\tAverage score over the last 100 episodes: 5.26\n",
      "Episode 45\tAverage score over the last 100 episodes: 5.47\n",
      "Episode 46\tAverage score over the last 100 episodes: 5.70\n",
      "Episode 47\tAverage score over the last 100 episodes: 5.96\n",
      "Episode 48\tAverage score over the last 100 episodes: 6.20\n",
      "Episode 49\tAverage score over the last 100 episodes: 6.45\n",
      "Episode 50\tAverage score over the last 100 episodes: 6.72\n",
      "Episode 51\tAverage score over the last 100 episodes: 6.94\n",
      "Episode 52\tAverage score over the last 100 episodes: 7.21\n",
      "Episode 53\tAverage score over the last 100 episodes: 7.49\n",
      "Episode 54\tAverage score over the last 100 episodes: 7.73\n",
      "Episode 55\tAverage score over the last 100 episodes: 7.97\n",
      "Episode 56\tAverage score over the last 100 episodes: 8.25\n",
      "Episode 57\tAverage score over the last 100 episodes: 8.47\n",
      "Episode 58\tAverage score over the last 100 episodes: 8.73\n",
      "Episode 59\tAverage score over the last 100 episodes: 8.96\n",
      "Episode 60\tAverage score over the last 100 episodes: 9.21\n",
      "Episode 61\tAverage score over the last 100 episodes: 9.47\n",
      "Episode 62\tAverage score over the last 100 episodes: 9.72\n",
      "Episode 63\tAverage score over the last 100 episodes: 9.96\n",
      "Episode 64\tAverage score over the last 100 episodes: 10.18\n",
      "Episode 65\tAverage score over the last 100 episodes: 10.39\n",
      "Episode 66\tAverage score over the last 100 episodes: 10.63\n",
      "Episode 67\tAverage score over the last 100 episodes: 10.83\n",
      "Episode 68\tAverage score over the last 100 episodes: 11.06\n",
      "Episode 69\tAverage score over the last 100 episodes: 11.29\n",
      "Episode 70\tAverage score over the last 100 episodes: 11.49\n",
      "Episode 71\tAverage score over the last 100 episodes: 11.73\n",
      "Episode 72\tAverage score over the last 100 episodes: 11.92\n",
      "Episode 73\tAverage score over the last 100 episodes: 12.08\n",
      "Episode 74\tAverage score over the last 100 episodes: 12.28\n",
      "Episode 75\tAverage score over the last 100 episodes: 12.47\n",
      "Episode 76\tAverage score over the last 100 episodes: 12.62\n",
      "Episode 77\tAverage score over the last 100 episodes: 12.79\n",
      "Episode 78\tAverage score over the last 100 episodes: 12.97\n",
      "Episode 79\tAverage score over the last 100 episodes: 13.13\n",
      "Episode 80\tAverage score over the last 100 episodes: 13.29\n",
      "Episode 81\tAverage score over the last 100 episodes: 13.45\n",
      "Episode 82\tAverage score over the last 100 episodes: 13.61\n",
      "Episode 83\tAverage score over the last 100 episodes: 13.78\n",
      "Episode 84\tAverage score over the last 100 episodes: 13.96\n",
      "Episode 85\tAverage score over the last 100 episodes: 14.12\n",
      "Episode 86\tAverage score over the last 100 episodes: 14.31\n",
      "Episode 87\tAverage score over the last 100 episodes: 14.49\n",
      "Episode 88\tAverage score over the last 100 episodes: 14.66\n",
      "Episode 89\tAverage score over the last 100 episodes: 14.83\n",
      "Episode 90\tAverage score over the last 100 episodes: 15.02\n",
      "Episode 91\tAverage score over the last 100 episodes: 15.20\n",
      "Episode 92\tAverage score over the last 100 episodes: 15.38\n",
      "Episode 93\tAverage score over the last 100 episodes: 15.56\n",
      "Episode 94\tAverage score over the last 100 episodes: 15.75\n",
      "Episode 95\tAverage score over the last 100 episodes: 15.93\n",
      "Episode 96\tAverage score over the last 100 episodes: 16.10\n",
      "Episode 97\tAverage score over the last 100 episodes: 16.26\n",
      "Episode 98\tAverage score over the last 100 episodes: 16.44\n",
      "Episode 99\tAverage score over the last 100 episodes: 16.63\n",
      "Episode 100\tAverage score over the last 100 episodes: 16.82\n",
      "Episode 101\tAverage score over the last 100 episodes: 17.16\n",
      "Episode 102\tAverage score over the last 100 episodes: 17.51\n",
      "Episode 103\tAverage score over the last 100 episodes: 17.87\n",
      "Episode 104\tAverage score over the last 100 episodes: 18.24\n",
      "Episode 105\tAverage score over the last 100 episodes: 18.61\n",
      "Episode 106\tAverage score over the last 100 episodes: 18.98\n",
      "Episode 107\tAverage score over the last 100 episodes: 19.33\n",
      "Episode 108\tAverage score over the last 100 episodes: 19.70\n",
      "Episode 109\tAverage score over the last 100 episodes: 20.06\n",
      "Episode 110\tAverage score over the last 100 episodes: 20.41\n",
      "Episode 111\tAverage score over the last 100 episodes: 20.78\n",
      "Episode 112\tAverage score over the last 100 episodes: 21.14\n",
      "Episode 113\tAverage score over the last 100 episodes: 21.51\n",
      "Episode 114\tAverage score over the last 100 episodes: 21.86\n",
      "Episode 115\tAverage score over the last 100 episodes: 22.22\n",
      "Episode 116\tAverage score over the last 100 episodes: 22.57\n",
      "Episode 117\tAverage score over the last 100 episodes: 22.94\n",
      "Episode 118\tAverage score over the last 100 episodes: 23.30\n",
      "Episode 119\tAverage score over the last 100 episodes: 23.66\n",
      "Episode 120\tAverage score over the last 100 episodes: 24.01\n",
      "Episode 121\tAverage score over the last 100 episodes: 24.36\n",
      "Episode 122\tAverage score over the last 100 episodes: 24.72\n",
      "Episode 123\tAverage score over the last 100 episodes: 25.06\n",
      "Episode 124\tAverage score over the last 100 episodes: 25.39\n",
      "Episode 125\tAverage score over the last 100 episodes: 25.45\n",
      "Episode 126\tAverage score over the last 100 episodes: 25.43\n",
      "Episode 127\tAverage score over the last 100 episodes: 25.44\n",
      "Episode 128\tAverage score over the last 100 episodes: 25.45\n",
      "Episode 129\tAverage score over the last 100 episodes: 25.52\n",
      "Episode 130\tAverage score over the last 100 episodes: 25.62\n",
      "Episode 131\tAverage score over the last 100 episodes: 25.79\n",
      "Episode 132\tAverage score over the last 100 episodes: 25.95\n",
      "Episode 133\tAverage score over the last 100 episodes: 26.17\n",
      "Episode 134\tAverage score over the last 100 episodes: 26.39\n",
      "Episode 135\tAverage score over the last 100 episodes: 26.59\n",
      "Episode 136\tAverage score over the last 100 episodes: 26.85\n",
      "Episode 137\tAverage score over the last 100 episodes: 27.08\n",
      "Episode 138\tAverage score over the last 100 episodes: 27.32\n",
      "Episode 139\tAverage score over the last 100 episodes: 27.57\n",
      "Episode 140\tAverage score over the last 100 episodes: 27.81\n",
      "Episode 141\tAverage score over the last 100 episodes: 28.04\n",
      "Episode 142\tAverage score over the last 100 episodes: 28.27\n",
      "Episode 143\tAverage score over the last 100 episodes: 28.49\n",
      "Episode 144\tAverage score over the last 100 episodes: 28.74\n",
      "Episode 145\tAverage score over the last 100 episodes: 28.97\n",
      "Episode 146\tAverage score over the last 100 episodes: 29.18\n",
      "Episode 147\tAverage score over the last 100 episodes: 29.37\n",
      "Episode 148\tAverage score over the last 100 episodes: 29.59\n",
      "Episode 149\tAverage score over the last 100 episodes: 29.78\n",
      "Episode 150\tAverage score over the last 100 episodes: 29.98\n",
      "Episode 151\tAverage score over the last 100 episodes: 30.18\n",
      "\n",
      "Environment solved in 151 episodes!\tAverage score over the last 100 episodes: 30.18\n"
     ]
    },
    {
     "data": {
      "image/png": "[encoded data removed]",
      "text/plain": [
       "<matplotlib.figure.Figure at 0x7fea8175bd30>"
      ]
     },
     "metadata": {
      "needs_background": "light"
     },
     "output_type": "display_data"
    }
   ],
   "source": [
    "agent = Agent(num_agents=num_agents,state_size=state_size, action_size=action_size,random_seed=10)\n",
    "scores = train_ddpg(agent,save_file='checkpoint')\n",
    "plot_scores(scores)\n",
    "#agent = Agent(state_size=env.observation_space.shape[0], action_size=env.action_space.shape[0], random_seed=10)"
   ]
  },
  {
   "cell_type": "code",
   "execution_count": null,
   "metadata": {},
   "outputs": [],
   "source": []
  }
 ],
 "metadata": {
  "kernelspec": {
   "display_name": "Python 3",
   "language": "python",
   "name": "python3"
  },
  "language_info": {
   "codemirror_mode": {
    "name": "ipython",
    "version": 3
   },
   "file_extension": ".py",
   "mimetype": "text/x-python",
   "name": "python",
   "nbconvert_exporter": "python",
   "pygments_lexer": "ipython3",
   "version": "3.6.3"
  }
 },
 "nbformat": 4,
 "nbformat_minor": 2
}
